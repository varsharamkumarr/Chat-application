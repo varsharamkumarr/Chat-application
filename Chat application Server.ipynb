{
 "cells": [
  {
   "cell_type": "code",
   "execution_count": 1,
   "id": "fb63b314-2afd-41c8-80ea-b017e9120d15",
   "metadata": {},
   "outputs": [],
   "source": [
    "import socket\n",
    "import threading"
   ]
  },
  {
   "cell_type": "code",
   "execution_count": 2,
   "id": "1e704682-0038-4fc9-800d-e36598a47939",
   "metadata": {},
   "outputs": [],
   "source": [
    "def receive_messages(client_socket):\n",
    "    while True:\n",
    "        try:\n",
    "            message = client_socket.recv(1024).decode()\n",
    "            print(message)\n",
    "        except:\n",
    "            print(\"An error occurred!\")\n",
    "            client_socket.close()\n",
    "            break"
   ]
  },
  {
   "cell_type": "code",
   "execution_count": 3,
   "id": "af1db3b8-b11e-484a-ba90-c50a2158ecae",
   "metadata": {},
   "outputs": [],
   "source": [
    "def main():\n",
    "    host = '127.0.0.1'\n",
    "    port = 12347\n",
    "\n",
    "    server_socket = socket.socket(socket.AF_INET, socket.SOCK_STREAM)\n",
    "    server_socket.bind((host, port))\n",
    "    server_socket.listen()\n",
    "\n",
    "    print(\"Chat server started on {}:{}\".format(host, port))\n",
    "\n",
    "    clients = []\n",
    "\n",
    "    while True:\n",
    "        client_socket, addr = server_socket.accept()\n",
    "        print(\"Connected with\", addr)\n",
    "        clients.append(client_socket)\n",
    "        threading.Thread(target=receive_messages, args=(client_socket,)).start()\n",
    "\n",
    "        # Sending welcome message to newly connected client\n",
    "        welcome_msg = \"Welcome to the chat server! Type 'exit' to quit.\"\n",
    "        client_socket.send(welcome_msg.encode())\n",
    "\n",
    "        # Broadcasting to all clients that a new client has joined\n",
    "        broadcast_msg = \"New user joined the chat: {}\".format(addr)\n",
    "        for client in clients:\n",
    "            if client != client_socket:\n",
    "                client.send(broadcast_msg.encode())\n",
    "\n",
    "        # Receiving messages from clients\n",
    "        while True:\n",
    "            try:\n",
    "                message = client_socket.recv(1024).decode()\n",
    "                if message.lower() == 'exit':\n",
    "                    client_socket.close()\n",
    "                    clients.remove(client_socket)\n",
    "                    print(\"Connection closed by\", addr)\n",
    "                    # Broadcasting to all clients that a client has left\n",
    "                    left_msg = \"User {} left the chat.\".format(addr)\n",
    "                    for client in clients:\n",
    "                        if client != client_socket:\n",
    "                            client.send(left_msg.encode())\n",
    "                    break\n",
    "                else:\n",
    "                    print(addr, \":\", message)\n",
    "                    # Broadcasting received message to all clients except the sender\n",
    "                    broadcast_msg = \"{} : {}\".format(addr, message)\n",
    "                    for client in clients:\n",
    "                        if client != client_socket:\n",
    "                            client.send(broadcast_msg.encode())\n",
    "            except:\n",
    "                break\n",
    "\n",
    "    server_socket.close()"
   ]
  },
  {
   "cell_type": "code",
   "execution_count": null,
   "id": "c2b45f7c-f54d-49ea-96ef-1a91d6e932e8",
   "metadata": {},
   "outputs": [
    {
     "name": "stdout",
     "output_type": "stream",
     "text": [
      "Chat server started on 127.0.0.1:12347\n",
      "Connected with ('127.0.0.1', 63042)\n",
      "Hello world!\n",
      "('127.0.0.1', 63042) : Welcome\n"
     ]
    }
   ],
   "source": [
    "if __name__ == \"__main__\":\n",
    "    main()"
   ]
  }
 ],
 "metadata": {
  "kernelspec": {
   "display_name": "Python 3 (ipykernel)",
   "language": "python",
   "name": "python3"
  },
  "language_info": {
   "codemirror_mode": {
    "name": "ipython",
    "version": 3
   },
   "file_extension": ".py",
   "mimetype": "text/x-python",
   "name": "python",
   "nbconvert_exporter": "python",
   "pygments_lexer": "ipython3",
   "version": "3.8.18"
  }
 },
 "nbformat": 4,
 "nbformat_minor": 5
}
