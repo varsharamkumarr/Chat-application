{
 "cells": [
  {
   "cell_type": "code",
   "execution_count": 1,
   "id": "812f44b1-5bc2-404a-871e-a6dddd645883",
   "metadata": {},
   "outputs": [],
   "source": [
    "import socket\n",
    "import threading"
   ]
  },
  {
   "cell_type": "code",
   "execution_count": 2,
   "id": "adaa0c7b-1be7-416e-9770-561ebce19cb1",
   "metadata": {},
   "outputs": [],
   "source": [
    "def receive_messages(client_socket):\n",
    "    while True:\n",
    "        try:\n",
    "            message = client_socket.recv(1024).decode()\n",
    "            print(message)\n",
    "        except:\n",
    "            print(\"An error occurred!\")\n",
    "            client_socket.close()\n",
    "            break"
   ]
  },
  {
   "cell_type": "code",
   "execution_count": 3,
   "id": "7fdc835c-4b22-410a-8b61-4cc1f924a91c",
   "metadata": {},
   "outputs": [],
   "source": [
    "def main():\n",
    "    host = '127.0.0.1'\n",
    "    port = 12347\n",
    "\n",
    "    client_socket = socket.socket(socket.AF_INET, socket.SOCK_STREAM)\n",
    "    client_socket.connect((host, port))\n",
    "\n",
    "    threading.Thread(target=receive_messages, args=(client_socket,)).start()\n",
    "\n",
    "    while True:\n",
    "        message = input()\n",
    "        client_socket.send(message.encode())"
   ]
  },
  {
   "cell_type": "code",
   "execution_count": null,
   "id": "db222bd2-350c-44c3-8227-4af641f1d1fa",
   "metadata": {},
   "outputs": [
    {
     "name": "stdout",
     "output_type": "stream",
     "text": [
      "Welcome to the chat server! Type 'exit' to quit.\n"
     ]
    },
    {
     "name": "stdin",
     "output_type": "stream",
     "text": [
      " Hello world!\n",
      " Welcome\n"
     ]
    }
   ],
   "source": [
    "if __name__ == \"__main__\":\n",
    "    main()"
   ]
  },
  {
   "cell_type": "code",
   "execution_count": null,
   "id": "5b21517b-e02b-4d0e-b89a-f7ea13f5ded2",
   "metadata": {},
   "outputs": [],
   "source": []
  }
 ],
 "metadata": {
  "kernelspec": {
   "display_name": "Python 3 (ipykernel)",
   "language": "python",
   "name": "python3"
  },
  "language_info": {
   "codemirror_mode": {
    "name": "ipython",
    "version": 3
   },
   "file_extension": ".py",
   "mimetype": "text/x-python",
   "name": "python",
   "nbconvert_exporter": "python",
   "pygments_lexer": "ipython3",
   "version": "3.8.18"
  }
 },
 "nbformat": 4,
 "nbformat_minor": 5
}
